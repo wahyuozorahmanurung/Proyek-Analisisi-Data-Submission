{
 "cells": [
  {
   "cell_type": "markdown",
   "id": "f0368312-2068-4482-a028-fd3838b1e956",
   "metadata": {
    "id": "f0368312-2068-4482-a028-fd3838b1e956"
   },
   "source": [
    "# Proyek Analisis Data: [Bike-sharing-dataset]\n",
    "\n",
    "**Nama:**  [Wahyu Ozorah Manurung]\n",
    "\n",
    "**Email:**  [wahyuozorahmanurung@gmail.com]\n",
    "\n",
    "**ID Dicoding:**  [MC189D5Y0409]\n"
   ]
  },
  {
   "cell_type": "markdown",
   "id": "flAzjvGRR8E-",
   "metadata": {
    "id": "flAzjvGRR8E-"
   },
   "source": [
    "## Menentukan Pertanyaan Bisnis"
   ]
  },
  {
   "cell_type": "markdown",
   "id": "1e40976c-9cb4-461c-a4c6-6a138190736b",
   "metadata": {
    "id": "1e40976c-9cb4-461c-a4c6-6a138190736b"
   },
   "source": [
    "\n",
    "\n",
    "- Bagaimana pola penggunaan sepeda berdasarkan waktu (weakday dan hour)?\n",
    "\n",
    "- Apa Hubungan antara Jumlah Penyewaan Sepeda dan Faktor Demografis Pengguna setiap hari dalam seminggu?\n",
    "\n",
    "- Pada Bulan Apa terjadinya peningkatan penyewaan sepeda dan apakah cuaca cukup berperan?\n",
    "\n",
    "- Bagaimana distribusi penyewaan sepeda berdasarkan rentang suhu?"
   ]
  },
  {
   "cell_type": "markdown",
   "id": "60ead145-7e2b-464e-af95-73e03b76ff0f",
   "metadata": {
    "id": "60ead145-7e2b-464e-af95-73e03b76ff0f"
   },
   "source": [
    "## Import Semua Packages/Library yang Digunakan"
   ]
  },
  {
   "cell_type": "code",
   "execution_count": 30,
   "id": "e0b8fdb7-7ea7-4431-8b7b-2a89c7056eb1",
   "metadata": {
    "id": "e0b8fdb7-7ea7-4431-8b7b-2a89c7056eb1"
   },
   "outputs": [],
   "source": [
    "import numpy as np\n",
    "import pandas as pd\n",
    "import matplotlib.pyplot as plt\n",
    "import seaborn as sns"
   ]
  },
  {
   "cell_type": "markdown",
   "id": "8MBOaPl2_eFt",
   "metadata": {
    "id": "8MBOaPl2_eFt"
   },
   "source": [
    "## Data Wrangling"
   ]
  },
  {
   "cell_type": "markdown",
   "id": "TmXE-eKi_k_J",
   "metadata": {
    "id": "TmXE-eKi_k_J"
   },
   "source": [
    "### Gathering Data"
   ]
  },
  {
   "cell_type": "code",
   "execution_count": 2,
   "id": "898cd66b-b239-49f8-88fc-9a2f2e627f60",
   "metadata": {
    "id": "898cd66b-b239-49f8-88fc-9a2f2e627f60"
   },
   "outputs": [
    {
     "name": "stdout",
     "output_type": "stream",
     "text": [
      "   instant      dteday  season  yr  mnth  holiday  weekday  workingday  \\\n",
      "0        1  2011-01-01       1   0     1        0        6           0   \n",
      "1        2  2011-01-02       1   0     1        0        0           0   \n",
      "2        3  2011-01-03       1   0     1        0        1           1   \n",
      "3        4  2011-01-04       1   0     1        0        2           1   \n",
      "4        5  2011-01-05       1   0     1        0        3           1   \n",
      "\n",
      "   weathersit      temp     atemp       hum  windspeed  casual  registered  \\\n",
      "0           2  0.344167  0.363625  0.805833   0.160446     331         654   \n",
      "1           2  0.363478  0.353739  0.696087   0.248539     131         670   \n",
      "2           1  0.196364  0.189405  0.437273   0.248309     120        1229   \n",
      "3           1  0.200000  0.212122  0.590435   0.160296     108        1454   \n",
      "4           1  0.226957  0.229270  0.436957   0.186900      82        1518   \n",
      "\n",
      "    cnt  \n",
      "0   985  \n",
      "1   801  \n",
      "2  1349  \n",
      "3  1562  \n",
      "4  1600  \n"
     ]
    }
   ],
   "source": [
    "file_path = 'D:\\submission\\data\\day.csv'\n",
    "day_df = pd.read_csv(file_path)\n",
    "print(day_df.head())"
   ]
  },
  {
   "cell_type": "code",
   "execution_count": 3,
   "id": "05d75ab6-a333-407f-81e9-eb11d11ae680",
   "metadata": {
    "id": "05d75ab6-a333-407f-81e9-eb11d11ae680"
   },
   "outputs": [
    {
     "name": "stdout",
     "output_type": "stream",
     "text": [
      "   instant      dteday  season  yr  mnth  hr  holiday  weekday  workingday  \\\n",
      "0        1  2011-01-01       1   0     1   0        0        6           0   \n",
      "1        2  2011-01-01       1   0     1   1        0        6           0   \n",
      "2        3  2011-01-01       1   0     1   2        0        6           0   \n",
      "3        4  2011-01-01       1   0     1   3        0        6           0   \n",
      "4        5  2011-01-01       1   0     1   4        0        6           0   \n",
      "\n",
      "   weathersit  temp   atemp   hum  windspeed  casual  registered  cnt  \n",
      "0           1  0.24  0.2879  0.81        0.0       3          13   16  \n",
      "1           1  0.22  0.2727  0.80        0.0       8          32   40  \n",
      "2           1  0.22  0.2727  0.80        0.0       5          27   32  \n",
      "3           1  0.24  0.2879  0.75        0.0       3          10   13  \n",
      "4           1  0.24  0.2879  0.75        0.0       0           1    1  \n"
     ]
    }
   ],
   "source": [
    "file_path = 'D:\\submission\\data\\hour.csv'\n",
    "hour_df = pd.read_csv(file_path)\n",
    "print(hour_df.head())"
   ]
  },
  {
   "cell_type": "markdown",
   "id": "d81e4e15-f630-471a-9402-096ba535faa2",
   "metadata": {
    "id": "d81e4e15-f630-471a-9402-096ba535faa2"
   },
   "source": [
    "**Insight:**\n",
    "\n",
    "Berdasarkan struktur tabel yang ditampilkan, setiap tabel memiliki sejumlah variabel, seperti tanggal, musim, tahun, bulan, jam penggunaan, kategori kondisi cuaca, suhu, kelembapan, kecepatan angin, jumlah pengguna, serta total penyewaan sepeda.  \n",
    "\n",
    "- Tabel harian merekam data peminjaman sepeda berdasarkan hari, sementara tabel per jam mencatat jumlah penyewaan pada tiap jam dalam sehari.  \n",
    "- Dari data tersebut, dapat terlihat bahwa faktor-faktor seperti musim, cuaca, status hari kerja atau libur, serta waktu dalam sehari memiliki pengaruh terhadap jumlah sepeda yang disewa."
   ]
  },
  {
   "cell_type": "markdown",
   "id": "hx7rRUMQAFv8",
   "metadata": {
    "id": "hx7rRUMQAFv8"
   },
   "source": [
    "### Assessing Data"
   ]
  },
  {
   "cell_type": "code",
   "execution_count": 4,
   "id": "3db90639-1498-4ad3-9c9f-0f17fb672231",
   "metadata": {
    "id": "3db90639-1498-4ad3-9c9f-0f17fb672231"
   },
   "outputs": [
    {
     "name": "stdout",
     "output_type": "stream",
     "text": [
      "<class 'pandas.core.frame.DataFrame'>\n",
      "RangeIndex: 731 entries, 0 to 730\n",
      "Data columns (total 16 columns):\n",
      " #   Column      Non-Null Count  Dtype  \n",
      "---  ------      --------------  -----  \n",
      " 0   instant     731 non-null    int64  \n",
      " 1   dteday      731 non-null    object \n",
      " 2   season      731 non-null    int64  \n",
      " 3   yr          731 non-null    int64  \n",
      " 4   mnth        731 non-null    int64  \n",
      " 5   holiday     731 non-null    int64  \n",
      " 6   weekday     731 non-null    int64  \n",
      " 7   workingday  731 non-null    int64  \n",
      " 8   weathersit  731 non-null    int64  \n",
      " 9   temp        731 non-null    float64\n",
      " 10  atemp       731 non-null    float64\n",
      " 11  hum         731 non-null    float64\n",
      " 12  windspeed   731 non-null    float64\n",
      " 13  casual      731 non-null    int64  \n",
      " 14  registered  731 non-null    int64  \n",
      " 15  cnt         731 non-null    int64  \n",
      "dtypes: float64(4), int64(11), object(1)\n",
      "memory usage: 91.5+ KB\n"
     ]
    }
   ],
   "source": [
    "day_df.info()"
   ]
  },
  {
   "cell_type": "code",
   "execution_count": 5,
   "id": "9516c368-a10a-4719-a7ca-b77dcf6e6b93",
   "metadata": {
    "id": "9516c368-a10a-4719-a7ca-b77dcf6e6b93"
   },
   "outputs": [
    {
     "name": "stdout",
     "output_type": "stream",
     "text": [
      "Jumlah duplikasi:  0\n"
     ]
    }
   ],
   "source": [
    "# untuk melihat apakah ada duplikasi atau tidak\n",
    "\n",
    "print(\"Jumlah duplikasi: \", day_df.duplicated().sum())"
   ]
  },
  {
   "cell_type": "code",
   "execution_count": 6,
   "id": "9f9a08e9-e263-42d3-9bca-da501ca7864f",
   "metadata": {
    "id": "9f9a08e9-e263-42d3-9bca-da501ca7864f"
   },
   "outputs": [
    {
     "data": {
      "text/html": [
       "<div>\n",
       "<style scoped>\n",
       "    .dataframe tbody tr th:only-of-type {\n",
       "        vertical-align: middle;\n",
       "    }\n",
       "\n",
       "    .dataframe tbody tr th {\n",
       "        vertical-align: top;\n",
       "    }\n",
       "\n",
       "    .dataframe thead th {\n",
       "        text-align: right;\n",
       "    }\n",
       "</style>\n",
       "<table border=\"1\" class=\"dataframe\">\n",
       "  <thead>\n",
       "    <tr style=\"text-align: right;\">\n",
       "      <th></th>\n",
       "      <th>instant</th>\n",
       "      <th>season</th>\n",
       "      <th>yr</th>\n",
       "      <th>mnth</th>\n",
       "      <th>holiday</th>\n",
       "      <th>weekday</th>\n",
       "      <th>workingday</th>\n",
       "      <th>weathersit</th>\n",
       "      <th>temp</th>\n",
       "      <th>atemp</th>\n",
       "      <th>hum</th>\n",
       "      <th>windspeed</th>\n",
       "      <th>casual</th>\n",
       "      <th>registered</th>\n",
       "      <th>cnt</th>\n",
       "    </tr>\n",
       "  </thead>\n",
       "  <tbody>\n",
       "    <tr>\n",
       "      <th>count</th>\n",
       "      <td>731.000000</td>\n",
       "      <td>731.000000</td>\n",
       "      <td>731.000000</td>\n",
       "      <td>731.000000</td>\n",
       "      <td>731.000000</td>\n",
       "      <td>731.000000</td>\n",
       "      <td>731.000000</td>\n",
       "      <td>731.000000</td>\n",
       "      <td>731.000000</td>\n",
       "      <td>731.000000</td>\n",
       "      <td>731.000000</td>\n",
       "      <td>731.000000</td>\n",
       "      <td>731.000000</td>\n",
       "      <td>731.000000</td>\n",
       "      <td>731.000000</td>\n",
       "    </tr>\n",
       "    <tr>\n",
       "      <th>mean</th>\n",
       "      <td>366.000000</td>\n",
       "      <td>2.496580</td>\n",
       "      <td>0.500684</td>\n",
       "      <td>6.519836</td>\n",
       "      <td>0.028728</td>\n",
       "      <td>2.997264</td>\n",
       "      <td>0.683995</td>\n",
       "      <td>1.395349</td>\n",
       "      <td>0.495385</td>\n",
       "      <td>0.474354</td>\n",
       "      <td>0.627894</td>\n",
       "      <td>0.190486</td>\n",
       "      <td>848.176471</td>\n",
       "      <td>3656.172367</td>\n",
       "      <td>4504.348837</td>\n",
       "    </tr>\n",
       "    <tr>\n",
       "      <th>std</th>\n",
       "      <td>211.165812</td>\n",
       "      <td>1.110807</td>\n",
       "      <td>0.500342</td>\n",
       "      <td>3.451913</td>\n",
       "      <td>0.167155</td>\n",
       "      <td>2.004787</td>\n",
       "      <td>0.465233</td>\n",
       "      <td>0.544894</td>\n",
       "      <td>0.183051</td>\n",
       "      <td>0.162961</td>\n",
       "      <td>0.142429</td>\n",
       "      <td>0.077498</td>\n",
       "      <td>686.622488</td>\n",
       "      <td>1560.256377</td>\n",
       "      <td>1937.211452</td>\n",
       "    </tr>\n",
       "    <tr>\n",
       "      <th>min</th>\n",
       "      <td>1.000000</td>\n",
       "      <td>1.000000</td>\n",
       "      <td>0.000000</td>\n",
       "      <td>1.000000</td>\n",
       "      <td>0.000000</td>\n",
       "      <td>0.000000</td>\n",
       "      <td>0.000000</td>\n",
       "      <td>1.000000</td>\n",
       "      <td>0.059130</td>\n",
       "      <td>0.079070</td>\n",
       "      <td>0.000000</td>\n",
       "      <td>0.022392</td>\n",
       "      <td>2.000000</td>\n",
       "      <td>20.000000</td>\n",
       "      <td>22.000000</td>\n",
       "    </tr>\n",
       "    <tr>\n",
       "      <th>25%</th>\n",
       "      <td>183.500000</td>\n",
       "      <td>2.000000</td>\n",
       "      <td>0.000000</td>\n",
       "      <td>4.000000</td>\n",
       "      <td>0.000000</td>\n",
       "      <td>1.000000</td>\n",
       "      <td>0.000000</td>\n",
       "      <td>1.000000</td>\n",
       "      <td>0.337083</td>\n",
       "      <td>0.337842</td>\n",
       "      <td>0.520000</td>\n",
       "      <td>0.134950</td>\n",
       "      <td>315.500000</td>\n",
       "      <td>2497.000000</td>\n",
       "      <td>3152.000000</td>\n",
       "    </tr>\n",
       "    <tr>\n",
       "      <th>50%</th>\n",
       "      <td>366.000000</td>\n",
       "      <td>3.000000</td>\n",
       "      <td>1.000000</td>\n",
       "      <td>7.000000</td>\n",
       "      <td>0.000000</td>\n",
       "      <td>3.000000</td>\n",
       "      <td>1.000000</td>\n",
       "      <td>1.000000</td>\n",
       "      <td>0.498333</td>\n",
       "      <td>0.486733</td>\n",
       "      <td>0.626667</td>\n",
       "      <td>0.180975</td>\n",
       "      <td>713.000000</td>\n",
       "      <td>3662.000000</td>\n",
       "      <td>4548.000000</td>\n",
       "    </tr>\n",
       "    <tr>\n",
       "      <th>75%</th>\n",
       "      <td>548.500000</td>\n",
       "      <td>3.000000</td>\n",
       "      <td>1.000000</td>\n",
       "      <td>10.000000</td>\n",
       "      <td>0.000000</td>\n",
       "      <td>5.000000</td>\n",
       "      <td>1.000000</td>\n",
       "      <td>2.000000</td>\n",
       "      <td>0.655417</td>\n",
       "      <td>0.608602</td>\n",
       "      <td>0.730209</td>\n",
       "      <td>0.233214</td>\n",
       "      <td>1096.000000</td>\n",
       "      <td>4776.500000</td>\n",
       "      <td>5956.000000</td>\n",
       "    </tr>\n",
       "    <tr>\n",
       "      <th>max</th>\n",
       "      <td>731.000000</td>\n",
       "      <td>4.000000</td>\n",
       "      <td>1.000000</td>\n",
       "      <td>12.000000</td>\n",
       "      <td>1.000000</td>\n",
       "      <td>6.000000</td>\n",
       "      <td>1.000000</td>\n",
       "      <td>3.000000</td>\n",
       "      <td>0.861667</td>\n",
       "      <td>0.840896</td>\n",
       "      <td>0.972500</td>\n",
       "      <td>0.507463</td>\n",
       "      <td>3410.000000</td>\n",
       "      <td>6946.000000</td>\n",
       "      <td>8714.000000</td>\n",
       "    </tr>\n",
       "  </tbody>\n",
       "</table>\n",
       "</div>"
      ],
      "text/plain": [
       "          instant      season          yr        mnth     holiday     weekday  \\\n",
       "count  731.000000  731.000000  731.000000  731.000000  731.000000  731.000000   \n",
       "mean   366.000000    2.496580    0.500684    6.519836    0.028728    2.997264   \n",
       "std    211.165812    1.110807    0.500342    3.451913    0.167155    2.004787   \n",
       "min      1.000000    1.000000    0.000000    1.000000    0.000000    0.000000   \n",
       "25%    183.500000    2.000000    0.000000    4.000000    0.000000    1.000000   \n",
       "50%    366.000000    3.000000    1.000000    7.000000    0.000000    3.000000   \n",
       "75%    548.500000    3.000000    1.000000   10.000000    0.000000    5.000000   \n",
       "max    731.000000    4.000000    1.000000   12.000000    1.000000    6.000000   \n",
       "\n",
       "       workingday  weathersit        temp       atemp         hum   windspeed  \\\n",
       "count  731.000000  731.000000  731.000000  731.000000  731.000000  731.000000   \n",
       "mean     0.683995    1.395349    0.495385    0.474354    0.627894    0.190486   \n",
       "std      0.465233    0.544894    0.183051    0.162961    0.142429    0.077498   \n",
       "min      0.000000    1.000000    0.059130    0.079070    0.000000    0.022392   \n",
       "25%      0.000000    1.000000    0.337083    0.337842    0.520000    0.134950   \n",
       "50%      1.000000    1.000000    0.498333    0.486733    0.626667    0.180975   \n",
       "75%      1.000000    2.000000    0.655417    0.608602    0.730209    0.233214   \n",
       "max      1.000000    3.000000    0.861667    0.840896    0.972500    0.507463   \n",
       "\n",
       "            casual   registered          cnt  \n",
       "count   731.000000   731.000000   731.000000  \n",
       "mean    848.176471  3656.172367  4504.348837  \n",
       "std     686.622488  1560.256377  1937.211452  \n",
       "min       2.000000    20.000000    22.000000  \n",
       "25%     315.500000  2497.000000  3152.000000  \n",
       "50%     713.000000  3662.000000  4548.000000  \n",
       "75%    1096.000000  4776.500000  5956.000000  \n",
       "max    3410.000000  6946.000000  8714.000000  "
      ]
     },
     "execution_count": 6,
     "metadata": {},
     "output_type": "execute_result"
    }
   ],
   "source": [
    "day_df.describe()"
   ]
  },
  {
   "cell_type": "markdown",
   "id": "045b7c64-781e-4c06-8b1c-ac359017cf27",
   "metadata": {
    "id": "045b7c64-781e-4c06-8b1c-ac359017cf27"
   },
   "source": [
    "**Insight:**\n",
    "\n",
    "- Dalam tabel Day (harian), terdapat ketidaksesuaian tipe data pada kolom dteday, di mana tipe datanya terdeteksi sebagai object, padahal seharusnya berupa date&time.\n",
    "- Setelah dilakukan pemeriksaan terhadap duplikasi data, tidak ditemukan adanya data yang terduplikasi, serta tidak ada kejanggalan dalam nilai-nilai yang terdapat pada day_df."
   ]
  },
  {
   "cell_type": "code",
   "execution_count": 7,
   "id": "36c31c7f-680d-4bbf-a8b1-dace5be7b69c",
   "metadata": {
    "id": "36c31c7f-680d-4bbf-a8b1-dace5be7b69c"
   },
   "outputs": [
    {
     "name": "stdout",
     "output_type": "stream",
     "text": [
      "<class 'pandas.core.frame.DataFrame'>\n",
      "RangeIndex: 17379 entries, 0 to 17378\n",
      "Data columns (total 17 columns):\n",
      " #   Column      Non-Null Count  Dtype  \n",
      "---  ------      --------------  -----  \n",
      " 0   instant     17379 non-null  int64  \n",
      " 1   dteday      17379 non-null  object \n",
      " 2   season      17379 non-null  int64  \n",
      " 3   yr          17379 non-null  int64  \n",
      " 4   mnth        17379 non-null  int64  \n",
      " 5   hr          17379 non-null  int64  \n",
      " 6   holiday     17379 non-null  int64  \n",
      " 7   weekday     17379 non-null  int64  \n",
      " 8   workingday  17379 non-null  int64  \n",
      " 9   weathersit  17379 non-null  int64  \n",
      " 10  temp        17379 non-null  float64\n",
      " 11  atemp       17379 non-null  float64\n",
      " 12  hum         17379 non-null  float64\n",
      " 13  windspeed   17379 non-null  float64\n",
      " 14  casual      17379 non-null  int64  \n",
      " 15  registered  17379 non-null  int64  \n",
      " 16  cnt         17379 non-null  int64  \n",
      "dtypes: float64(4), int64(12), object(1)\n",
      "memory usage: 2.3+ MB\n"
     ]
    }
   ],
   "source": [
    "# melihat info dari file hour\n",
    "hour_df.info()"
   ]
  },
  {
   "cell_type": "code",
   "execution_count": 8,
   "id": "940af001-d15d-4181-a05d-61da56b14387",
   "metadata": {
    "id": "940af001-d15d-4181-a05d-61da56b14387"
   },
   "outputs": [
    {
     "name": "stdout",
     "output_type": "stream",
     "text": [
      "Jumlah duplikasi:  0\n"
     ]
    }
   ],
   "source": [
    "# melihat apakah ada duplikasi atau tidka\n",
    "print(\"Jumlah duplikasi: \", hour_df.duplicated().sum())"
   ]
  },
  {
   "cell_type": "code",
   "execution_count": 9,
   "id": "7effa2ef-d6c3-4830-b2bc-ebfc2a2ee0b9",
   "metadata": {
    "id": "7effa2ef-d6c3-4830-b2bc-ebfc2a2ee0b9",
    "scrolled": true
   },
   "outputs": [
    {
     "data": {
      "text/html": [
       "<div>\n",
       "<style scoped>\n",
       "    .dataframe tbody tr th:only-of-type {\n",
       "        vertical-align: middle;\n",
       "    }\n",
       "\n",
       "    .dataframe tbody tr th {\n",
       "        vertical-align: top;\n",
       "    }\n",
       "\n",
       "    .dataframe thead th {\n",
       "        text-align: right;\n",
       "    }\n",
       "</style>\n",
       "<table border=\"1\" class=\"dataframe\">\n",
       "  <thead>\n",
       "    <tr style=\"text-align: right;\">\n",
       "      <th></th>\n",
       "      <th>instant</th>\n",
       "      <th>season</th>\n",
       "      <th>yr</th>\n",
       "      <th>mnth</th>\n",
       "      <th>hr</th>\n",
       "      <th>holiday</th>\n",
       "      <th>weekday</th>\n",
       "      <th>workingday</th>\n",
       "      <th>weathersit</th>\n",
       "      <th>temp</th>\n",
       "      <th>atemp</th>\n",
       "      <th>hum</th>\n",
       "      <th>windspeed</th>\n",
       "      <th>casual</th>\n",
       "      <th>registered</th>\n",
       "      <th>cnt</th>\n",
       "    </tr>\n",
       "  </thead>\n",
       "  <tbody>\n",
       "    <tr>\n",
       "      <th>count</th>\n",
       "      <td>17379.0000</td>\n",
       "      <td>17379.000000</td>\n",
       "      <td>17379.000000</td>\n",
       "      <td>17379.000000</td>\n",
       "      <td>17379.000000</td>\n",
       "      <td>17379.000000</td>\n",
       "      <td>17379.000000</td>\n",
       "      <td>17379.000000</td>\n",
       "      <td>17379.000000</td>\n",
       "      <td>17379.000000</td>\n",
       "      <td>17379.000000</td>\n",
       "      <td>17379.000000</td>\n",
       "      <td>17379.000000</td>\n",
       "      <td>17379.000000</td>\n",
       "      <td>17379.000000</td>\n",
       "      <td>17379.000000</td>\n",
       "    </tr>\n",
       "    <tr>\n",
       "      <th>mean</th>\n",
       "      <td>8690.0000</td>\n",
       "      <td>2.501640</td>\n",
       "      <td>0.502561</td>\n",
       "      <td>6.537775</td>\n",
       "      <td>11.546752</td>\n",
       "      <td>0.028770</td>\n",
       "      <td>3.003683</td>\n",
       "      <td>0.682721</td>\n",
       "      <td>1.425283</td>\n",
       "      <td>0.496987</td>\n",
       "      <td>0.475775</td>\n",
       "      <td>0.627229</td>\n",
       "      <td>0.190098</td>\n",
       "      <td>35.676218</td>\n",
       "      <td>153.786869</td>\n",
       "      <td>189.463088</td>\n",
       "    </tr>\n",
       "    <tr>\n",
       "      <th>std</th>\n",
       "      <td>5017.0295</td>\n",
       "      <td>1.106918</td>\n",
       "      <td>0.500008</td>\n",
       "      <td>3.438776</td>\n",
       "      <td>6.914405</td>\n",
       "      <td>0.167165</td>\n",
       "      <td>2.005771</td>\n",
       "      <td>0.465431</td>\n",
       "      <td>0.639357</td>\n",
       "      <td>0.192556</td>\n",
       "      <td>0.171850</td>\n",
       "      <td>0.192930</td>\n",
       "      <td>0.122340</td>\n",
       "      <td>49.305030</td>\n",
       "      <td>151.357286</td>\n",
       "      <td>181.387599</td>\n",
       "    </tr>\n",
       "    <tr>\n",
       "      <th>min</th>\n",
       "      <td>1.0000</td>\n",
       "      <td>1.000000</td>\n",
       "      <td>0.000000</td>\n",
       "      <td>1.000000</td>\n",
       "      <td>0.000000</td>\n",
       "      <td>0.000000</td>\n",
       "      <td>0.000000</td>\n",
       "      <td>0.000000</td>\n",
       "      <td>1.000000</td>\n",
       "      <td>0.020000</td>\n",
       "      <td>0.000000</td>\n",
       "      <td>0.000000</td>\n",
       "      <td>0.000000</td>\n",
       "      <td>0.000000</td>\n",
       "      <td>0.000000</td>\n",
       "      <td>1.000000</td>\n",
       "    </tr>\n",
       "    <tr>\n",
       "      <th>25%</th>\n",
       "      <td>4345.5000</td>\n",
       "      <td>2.000000</td>\n",
       "      <td>0.000000</td>\n",
       "      <td>4.000000</td>\n",
       "      <td>6.000000</td>\n",
       "      <td>0.000000</td>\n",
       "      <td>1.000000</td>\n",
       "      <td>0.000000</td>\n",
       "      <td>1.000000</td>\n",
       "      <td>0.340000</td>\n",
       "      <td>0.333300</td>\n",
       "      <td>0.480000</td>\n",
       "      <td>0.104500</td>\n",
       "      <td>4.000000</td>\n",
       "      <td>34.000000</td>\n",
       "      <td>40.000000</td>\n",
       "    </tr>\n",
       "    <tr>\n",
       "      <th>50%</th>\n",
       "      <td>8690.0000</td>\n",
       "      <td>3.000000</td>\n",
       "      <td>1.000000</td>\n",
       "      <td>7.000000</td>\n",
       "      <td>12.000000</td>\n",
       "      <td>0.000000</td>\n",
       "      <td>3.000000</td>\n",
       "      <td>1.000000</td>\n",
       "      <td>1.000000</td>\n",
       "      <td>0.500000</td>\n",
       "      <td>0.484800</td>\n",
       "      <td>0.630000</td>\n",
       "      <td>0.194000</td>\n",
       "      <td>17.000000</td>\n",
       "      <td>115.000000</td>\n",
       "      <td>142.000000</td>\n",
       "    </tr>\n",
       "    <tr>\n",
       "      <th>75%</th>\n",
       "      <td>13034.5000</td>\n",
       "      <td>3.000000</td>\n",
       "      <td>1.000000</td>\n",
       "      <td>10.000000</td>\n",
       "      <td>18.000000</td>\n",
       "      <td>0.000000</td>\n",
       "      <td>5.000000</td>\n",
       "      <td>1.000000</td>\n",
       "      <td>2.000000</td>\n",
       "      <td>0.660000</td>\n",
       "      <td>0.621200</td>\n",
       "      <td>0.780000</td>\n",
       "      <td>0.253700</td>\n",
       "      <td>48.000000</td>\n",
       "      <td>220.000000</td>\n",
       "      <td>281.000000</td>\n",
       "    </tr>\n",
       "    <tr>\n",
       "      <th>max</th>\n",
       "      <td>17379.0000</td>\n",
       "      <td>4.000000</td>\n",
       "      <td>1.000000</td>\n",
       "      <td>12.000000</td>\n",
       "      <td>23.000000</td>\n",
       "      <td>1.000000</td>\n",
       "      <td>6.000000</td>\n",
       "      <td>1.000000</td>\n",
       "      <td>4.000000</td>\n",
       "      <td>1.000000</td>\n",
       "      <td>1.000000</td>\n",
       "      <td>1.000000</td>\n",
       "      <td>0.850700</td>\n",
       "      <td>367.000000</td>\n",
       "      <td>886.000000</td>\n",
       "      <td>977.000000</td>\n",
       "    </tr>\n",
       "  </tbody>\n",
       "</table>\n",
       "</div>"
      ],
      "text/plain": [
       "          instant        season            yr          mnth            hr  \\\n",
       "count  17379.0000  17379.000000  17379.000000  17379.000000  17379.000000   \n",
       "mean    8690.0000      2.501640      0.502561      6.537775     11.546752   \n",
       "std     5017.0295      1.106918      0.500008      3.438776      6.914405   \n",
       "min        1.0000      1.000000      0.000000      1.000000      0.000000   \n",
       "25%     4345.5000      2.000000      0.000000      4.000000      6.000000   \n",
       "50%     8690.0000      3.000000      1.000000      7.000000     12.000000   \n",
       "75%    13034.5000      3.000000      1.000000     10.000000     18.000000   \n",
       "max    17379.0000      4.000000      1.000000     12.000000     23.000000   \n",
       "\n",
       "            holiday       weekday    workingday    weathersit          temp  \\\n",
       "count  17379.000000  17379.000000  17379.000000  17379.000000  17379.000000   \n",
       "mean       0.028770      3.003683      0.682721      1.425283      0.496987   \n",
       "std        0.167165      2.005771      0.465431      0.639357      0.192556   \n",
       "min        0.000000      0.000000      0.000000      1.000000      0.020000   \n",
       "25%        0.000000      1.000000      0.000000      1.000000      0.340000   \n",
       "50%        0.000000      3.000000      1.000000      1.000000      0.500000   \n",
       "75%        0.000000      5.000000      1.000000      2.000000      0.660000   \n",
       "max        1.000000      6.000000      1.000000      4.000000      1.000000   \n",
       "\n",
       "              atemp           hum     windspeed        casual    registered  \\\n",
       "count  17379.000000  17379.000000  17379.000000  17379.000000  17379.000000   \n",
       "mean       0.475775      0.627229      0.190098     35.676218    153.786869   \n",
       "std        0.171850      0.192930      0.122340     49.305030    151.357286   \n",
       "min        0.000000      0.000000      0.000000      0.000000      0.000000   \n",
       "25%        0.333300      0.480000      0.104500      4.000000     34.000000   \n",
       "50%        0.484800      0.630000      0.194000     17.000000    115.000000   \n",
       "75%        0.621200      0.780000      0.253700     48.000000    220.000000   \n",
       "max        1.000000      1.000000      0.850700    367.000000    886.000000   \n",
       "\n",
       "                cnt  \n",
       "count  17379.000000  \n",
       "mean     189.463088  \n",
       "std      181.387599  \n",
       "min        1.000000  \n",
       "25%       40.000000  \n",
       "50%      142.000000  \n",
       "75%      281.000000  \n",
       "max      977.000000  "
      ]
     },
     "execution_count": 9,
     "metadata": {},
     "output_type": "execute_result"
    }
   ],
   "source": [
    "# melihat gamabran\n",
    "hour_df.describe()"
   ]
  },
  {
   "cell_type": "markdown",
   "id": "f9ebde9e-cc5e-4830-a809-33720ca693b4",
   "metadata": {
    "id": "f9ebde9e-cc5e-4830-a809-33720ca693b4"
   },
   "source": [
    "**Insight:**\n",
    "- Pada tabel Hour (jam), kolom dteday memiliki tipe data object, yang seharusnya dikonversi ke format date&time agar sesuai.\n",
    "- Setelah dilakukan pengecekan terhadap duplikasi data, tidak ditemukan adanya data yang sama, serta tidak ada indikasi nilai yang tidak wajar dalam hour_df.\n"
   ]
  },
  {
   "cell_type": "markdown",
   "id": "72e7d2cc-306b-4ad1-9ae3-4e1db346a6b5",
   "metadata": {
    "id": "72e7d2cc-306b-4ad1-9ae3-4e1db346a6b5"
   },
   "source": [
    "### Cleaning Data"
   ]
  },
  {
   "cell_type": "code",
   "execution_count": 10,
   "id": "8e9bf8eb-04f3-4165-a238-37a5de0785ee",
   "metadata": {
    "id": "8e9bf8eb-04f3-4165-a238-37a5de0785ee"
   },
   "outputs": [],
   "source": [
    "#  untuk mengonversi kolom dteday dalam day_df ke format datetime\n",
    "datetime_columns = [\"dteday\"]\n",
    "\n",
    "for column in datetime_columns:\n",
    "  day_df[column] = pd.to_datetime(day_df[column])"
   ]
  },
  {
   "cell_type": "code",
   "execution_count": 11,
   "id": "bacefd8b-7146-468d-90fa-da93fbd2b41f",
   "metadata": {
    "id": "bacefd8b-7146-468d-90fa-da93fbd2b41f"
   },
   "outputs": [
    {
     "name": "stdout",
     "output_type": "stream",
     "text": [
      "<class 'pandas.core.frame.DataFrame'>\n",
      "RangeIndex: 731 entries, 0 to 730\n",
      "Data columns (total 16 columns):\n",
      " #   Column      Non-Null Count  Dtype         \n",
      "---  ------      --------------  -----         \n",
      " 0   instant     731 non-null    int64         \n",
      " 1   dteday      731 non-null    datetime64[ns]\n",
      " 2   season      731 non-null    int64         \n",
      " 3   yr          731 non-null    int64         \n",
      " 4   mnth        731 non-null    int64         \n",
      " 5   holiday     731 non-null    int64         \n",
      " 6   weekday     731 non-null    int64         \n",
      " 7   workingday  731 non-null    int64         \n",
      " 8   weathersit  731 non-null    int64         \n",
      " 9   temp        731 non-null    float64       \n",
      " 10  atemp       731 non-null    float64       \n",
      " 11  hum         731 non-null    float64       \n",
      " 12  windspeed   731 non-null    float64       \n",
      " 13  casual      731 non-null    int64         \n",
      " 14  registered  731 non-null    int64         \n",
      " 15  cnt         731 non-null    int64         \n",
      "dtypes: datetime64[ns](1), float64(4), int64(11)\n",
      "memory usage: 91.5 KB\n"
     ]
    }
   ],
   "source": [
    "day_df.info()"
   ]
  },
  {
   "cell_type": "code",
   "execution_count": 12,
   "id": "09b23db3-c017-4a1e-a4c7-aa7b3cf11094",
   "metadata": {
    "id": "09b23db3-c017-4a1e-a4c7-aa7b3cf11094"
   },
   "outputs": [],
   "source": [
    "# mengonversi kolom dteday dalam hour_df menjadi tipe data datetime\n",
    "datetime_columns = [\"dteday\"]\n",
    "\n",
    "for column in datetime_columns:\n",
    "  hour_df[column] = pd.to_datetime(hour_df[column])"
   ]
  },
  {
   "cell_type": "code",
   "execution_count": 13,
   "id": "41fd80bb-8783-401e-a15d-2d505f45f83e",
   "metadata": {
    "id": "41fd80bb-8783-401e-a15d-2d505f45f83e"
   },
   "outputs": [
    {
     "name": "stdout",
     "output_type": "stream",
     "text": [
      "<class 'pandas.core.frame.DataFrame'>\n",
      "RangeIndex: 17379 entries, 0 to 17378\n",
      "Data columns (total 17 columns):\n",
      " #   Column      Non-Null Count  Dtype         \n",
      "---  ------      --------------  -----         \n",
      " 0   instant     17379 non-null  int64         \n",
      " 1   dteday      17379 non-null  datetime64[ns]\n",
      " 2   season      17379 non-null  int64         \n",
      " 3   yr          17379 non-null  int64         \n",
      " 4   mnth        17379 non-null  int64         \n",
      " 5   hr          17379 non-null  int64         \n",
      " 6   holiday     17379 non-null  int64         \n",
      " 7   weekday     17379 non-null  int64         \n",
      " 8   workingday  17379 non-null  int64         \n",
      " 9   weathersit  17379 non-null  int64         \n",
      " 10  temp        17379 non-null  float64       \n",
      " 11  atemp       17379 non-null  float64       \n",
      " 12  hum         17379 non-null  float64       \n",
      " 13  windspeed   17379 non-null  float64       \n",
      " 14  casual      17379 non-null  int64         \n",
      " 15  registered  17379 non-null  int64         \n",
      " 16  cnt         17379 non-null  int64         \n",
      "dtypes: datetime64[ns](1), float64(4), int64(12)\n",
      "memory usage: 2.3 MB\n"
     ]
    }
   ],
   "source": [
    "hour_df.info()"
   ]
  },
  {
   "cell_type": "markdown",
   "id": "402e673f-f4dc-47a2-8bab-7baa9ea220cc",
   "metadata": {
    "id": "402e673f-f4dc-47a2-8bab-7baa9ea220cc"
   },
   "source": [
    "**Insight:**\n",
    "- Saya melakukancleaning pada day_df dan hour_df untuk mengubah tipe data pada coloumn dteday menjadi tipe data untuk tanggal\n",
    "- Kemudian\n",
    "- setelah dilakukan cleaning tipe data berubah menjadi date&time"
   ]
  },
  {
   "cell_type": "markdown",
   "id": "b3bbb7ee-12ed-4a9d-a8e3-900d2548366a",
   "metadata": {
    "id": "b3bbb7ee-12ed-4a9d-a8e3-900d2548366a"
   },
   "source": [
    "## Exploratory Data Analysis (EDA)"
   ]
  },
  {
   "cell_type": "markdown",
   "id": "2fad5cfa-c135-43b6-b84d-7b513e32f3a5",
   "metadata": {
    "id": "2fad5cfa-c135-43b6-b84d-7b513e32f3a5"
   },
   "source": [
    "### Explore Data Day_df"
   ]
  },
  {
   "cell_type": "code",
   "execution_count": 14,
   "id": "3ffe1b3f-d6a9-46dc-8c5d-8cf34a224f94",
   "metadata": {
    "id": "3ffe1b3f-d6a9-46dc-8c5d-8cf34a224f94"
   },
   "outputs": [
    {
     "name": "stdout",
     "output_type": "stream",
     "text": [
      "         casual  registered     cnt\n",
      "weekday                            \n",
      "0        140521      303506  444027\n",
      "1         70784      384719  455503\n",
      "2         57843      411266  469109\n",
      "3         57319      415729  473048\n",
      "4         61460      423935  485395\n",
      "5         78238      409552  487790\n",
      "6        153852      323955  477807\n"
     ]
    }
   ],
   "source": [
    "grouped_data = day_df.groupby(['weekday']).agg({\n",
    "    'casual': 'sum',\n",
    "    'registered': 'sum',\n",
    "    'cnt': 'sum'\n",
    "})\n",
    "print (grouped_data)"
   ]
  },
  {
   "cell_type": "markdown",
   "id": "37c84bf2-0f7e-487f-b6d7-579180f0257b",
   "metadata": {
    "id": "37c84bf2-0f7e-487f-b6d7-579180f0257b"
   },
   "source": [
    "**Insight:**\n",
    "\n",
    "- Hasil eksplorasi data pada day_df menunjukkan bahwa dalam satu minggu, penyewaan sepeda didominasi oleh pengguna yang telah terdaftar, dengan jumlah penyewaan tertinggi terjadi pada hari Kamis."
   ]
  },
  {
   "cell_type": "markdown",
   "id": "3e89640f-d232-4b1d-9b6e-a4edf7d12913",
   "metadata": {
    "id": "3e89640f-d232-4b1d-9b6e-a4edf7d12913"
   },
   "source": [
    "### Explore Data Hour_df"
   ]
  },
  {
   "cell_type": "code",
   "execution_count": 15,
   "id": "00f21312-525a-4adc-b674-200369e211f3",
   "metadata": {
    "id": "00f21312-525a-4adc-b674-200369e211f3"
   },
   "outputs": [
    {
     "data": {
      "text/plain": [
       "hr\n",
       "0      39130\n",
       "1      24164\n",
       "2      16352\n",
       "3       8174\n",
       "4       4428\n",
       "5      14261\n",
       "6      55132\n",
       "7     154171\n",
       "8     261001\n",
       "9     159438\n",
       "10    126257\n",
       "11    151320\n",
       "12    184414\n",
       "13    184919\n",
       "14    175652\n",
       "15    183149\n",
       "16    227748\n",
       "17    336860\n",
       "18    309772\n",
       "19    226789\n",
       "20    164550\n",
       "21    125445\n",
       "22     95612\n",
       "23     63941\n",
       "Name: cnt, dtype: int64"
      ]
     },
     "execution_count": 15,
     "metadata": {},
     "output_type": "execute_result"
    }
   ],
   "source": [
    "hour_df.groupby(by=\"hr\")['cnt'].sum()"
   ]
  },
  {
   "cell_type": "markdown",
   "id": "8b1f94e0-3941-4cbb-b09f-5a27c61d0325",
   "metadata": {
    "id": "8b1f94e0-3941-4cbb-b09f-5a27c61d0325"
   },
   "source": [
    "**Insight:**\n",
    "\n",
    "- Hasil eksplorasi data pada hour_df menunjukkan bahwa dalam satu hari, penyewaan sepeda cenderung tinggi pada jam-jam produktif, terutama saat jam berangkat dan pulang kerja."
   ]
  },
  {
   "cell_type": "code",
   "execution_count": 16,
   "id": "088c74ce-ec59-41fd-bc0f-23febbb07db2",
   "metadata": {
    "id": "088c74ce-ec59-41fd-bc0f-23febbb07db2"
   },
   "outputs": [
    {
     "data": {
      "image/png": "[encoded data removed]",
      "text/plain": [
       "<Figure size 1200x600 with 1 Axes>"
      ]
     },
     "metadata": {},
     "output_type": "display_data"
    }
   ],
   "source": [
    "plt.figure(figsize=(12, 6))\n",
    "sns.histplot(day_df['cnt'], bins=30, kde=True)\n",
    "plt.title(\"Distribution of Total Bike Rentals per Day\")\n",
    "plt.xlabel(\"Total Rentals\")\n",
    "plt.ylabel(\"Frequency\")\n",
    "plt.show()"
   ]
  },
  {
   "cell_type": "markdown",
   "id": "e9a3094e-f232-4d3f-8f51-2a9fa26797aa",
   "metadata": {
    "id": "e9a3094e-f232-4d3f-8f51-2a9fa26797aa"
   },
   "source": [
    "**Insight:**\n",
    "\n",
    "Distribusi Penyewaan Sepeda\n",
    "-  Terlihat pola jumlah penyewaan sepeda per hari, Jika distribusi condong ke kanan (right-skewed), berarti sebagian besar hari memiliki jumlah penyewaan yang lebih rendah, dengan beberapa hari mengalami lonjakan tinggi.\n",
    "\n",
    "Identifikasi Tren\n",
    "- Jika ada puncak yang signifikan, ini menunjukkan hari-hari tertentu dengan jumlah penyewaan yang tinggi.\n",
    "- Jika distribusi memiliki dua puncak (bimodal), ini bisa menunjukkan ada perbedaan pola antara hari kerja dan akhir pekan."
   ]
  },
  {
   "cell_type": "code",
   "execution_count": 17,
   "id": "c2981f9d-4be3-4d56-85c3-b503feb221e8",
   "metadata": {
    "id": "c2981f9d-4be3-4d56-85c3-b503feb221e8"
   },
   "outputs": [
    {
     "name": "stdout",
     "output_type": "stream",
     "text": [
      "          Rental Range  Frequency\n",
      "0      (0.024, 33.533]       3964\n",
      "1     (33.533, 66.067]       1652\n",
      "2       (66.067, 98.6]       1356\n",
      "3      (98.6, 131.133]       1313\n",
      "4   (131.133, 163.667]       1208\n",
      "5     (163.667, 196.2]       1184\n",
      "6     (196.2, 228.733]       1030\n",
      "7   (228.733, 261.267]        870\n",
      "8     (261.267, 293.8]        759\n",
      "9     (293.8, 326.333]        654\n",
      "10  (326.333, 358.867]        514\n",
      "11    (358.867, 391.4]        492\n",
      "12    (391.4, 423.933]        389\n",
      "13  (423.933, 456.467]        315\n",
      "14    (456.467, 489.0]        293\n",
      "15    (489.0, 521.533]        259\n",
      "16  (521.533, 554.067]        200\n",
      "17    (554.067, 586.6]        194\n",
      "18    (586.6, 619.133]        147\n",
      "19  (619.133, 651.667]        116\n",
      "20    (651.667, 684.2]        106\n",
      "21    (684.2, 716.733]         84\n",
      "22  (716.733, 749.267]         64\n",
      "23    (749.267, 781.8]         40\n",
      "24    (781.8, 814.333]         58\n",
      "25  (814.333, 846.867]         47\n",
      "26    (846.867, 879.4]         34\n",
      "27    (879.4, 911.933]         21\n",
      "28  (911.933, 944.467]          7\n",
      "29    (944.467, 977.0]          9\n"
     ]
    }
   ],
   "source": [
    "hour_df['rental_range'] = pd.cut(hour_df['cnt'], bins=30)\n",
    "\n",
    "rental_distribution = hour_df['rental_range'].value_counts().sort_index().reset_index()\n",
    "rental_distribution.columns = ['Rental Range', 'Frequency']\n",
    "\n",
    "print(rental_distribution)\n"
   ]
  },
  {
   "cell_type": "markdown",
   "id": "481a8ee0-2ce5-4316-89bf-649e9916837c",
   "metadata": {
    "id": "481a8ee0-2ce5-4316-89bf-649e9916837c"
   },
   "source": [
    "**Insight:**\n",
    "- Sebagian besar penyewaan sepeda per jam berada dalam rentang 50-300 sepeda, menunjukkan pola penggunaan yang umum\n",
    "- Sebagian besar jam memiliki penyewaan sangat rendah, yaitu dalam rentang 0-33 sepeda (3964 jam).\n",
    "- Pola distribusi menunjukkan sebagian besar waktu sepeda tidak banyak digunakan, tetapi ada beberapa puncak dengan penyewaan tinggi (kemungkinan saat jam sibuk seperti pagi dan sore hari)."
   ]
  },
  {
   "cell_type": "code",
   "execution_count": 18,
   "id": "2f85617e-58df-4c98-b9f3-268c44899666",
   "metadata": {
    "id": "2f85617e-58df-4c98-b9f3-268c44899666"
   },
   "outputs": [
    {
     "name": "stdout",
     "output_type": "stream",
     "text": [
      "Index(['instant', 'dteday_x', 'season_x', 'yr_x', 'mnth_x', 'holiday_x',\n",
      "       'weekday_x', 'workingday_x', 'weathersit_x', 'temp_x', 'atemp_x',\n",
      "       'hum_x', 'windspeed_x', 'casual_x', 'registered_x', 'cnt_x', 'dteday_y',\n",
      "       'season_y', 'yr_y', 'mnth_y', 'hr', 'holiday_y', 'weekday_y',\n",
      "       'workingday_y', 'weathersit_y', 'temp_y', 'atemp_y', 'hum_y',\n",
      "       'windspeed_y', 'casual_y', 'registered_y', 'cnt_y', 'rental_range'],\n",
      "      dtype='object')\n"
     ]
    }
   ],
   "source": [
    "all_df = pd.merge(\n",
    "    left= day_df,\n",
    "    right= hour_df,\n",
    "    how =\"left\",\n",
    "    left_on =\"instant\",\n",
    "    right_on =\"instant\"\n",
    ")\n",
    "all_df.head()\n",
    "print(all_df.columns)"
   ]
  },
  {
   "cell_type": "code",
   "execution_count": 19,
   "id": "07a5e97a-cf21-4d16-81e7-8d4cf561e037",
   "metadata": {
    "id": "07a5e97a-cf21-4d16-81e7-8d4cf561e037"
   },
   "outputs": [
    {
     "name": "stdout",
     "output_type": "stream",
     "text": [
      "           casual_x  registered_x   cnt_x\n",
      "weekday_x                                \n",
      "0            140521        303506  444027\n",
      "1             70784        384719  455503\n",
      "2             57843        411266  469109\n",
      "3             57319        415729  473048\n",
      "4             61460        423935  485395\n",
      "5             78238        409552  487790\n",
      "6            153852        323955  477807\n"
     ]
    }
   ],
   "source": [
    "# mengelompokkan data berdasarkan hari dalam seminggu\n",
    "grouped_weekday_all = all_df.groupby(['weekday_x']).agg({\n",
    "    'casual_x': 'sum',\n",
    "    'registered_x': 'sum',\n",
    "    'cnt_x': 'sum'\n",
    "})\n",
    "print(grouped_weekday_all)"
   ]
  },
  {
   "cell_type": "markdown",
   "id": "66261d27-1247-4eef-8ee9-1fb63cde983d",
   "metadata": {
    "id": "66261d27-1247-4eef-8ee9-1fb63cde983d"
   },
   "source": [
    "**Insight:**\n",
    "\n",
    "- Hari kerja → lebih banyak pengguna terdaftar.\n",
    "\n",
    "- Akhir pekan → lebih banyak pengguna casual ).\n",
    "\n",
    "- Puncak penyewaan casual terjadi di hari Minggu"
   ]
  },
  {
   "cell_type": "code",
   "execution_count": 20,
   "id": "45026162-7c62-46d4-b083-276cb8962731",
   "metadata": {
    "id": "45026162-7c62-46d4-b083-276cb8962731"
   },
   "outputs": [
    {
     "name": "stdout",
     "output_type": "stream",
     "text": [
      "                 cnt_x  season_x    temp_x     hum_x  windspeed_x  \\\n",
      "cnt_x         1.000000  0.406100  0.627494 -0.100659    -0.234545   \n",
      "season_x      0.406100  1.000000  0.334315  0.205445    -0.229046   \n",
      "temp_x        0.627494  0.334315  1.000000  0.126963    -0.157944   \n",
      "hum_x        -0.100659  0.205445  0.126963  1.000000    -0.248489   \n",
      "windspeed_x  -0.234545 -0.229046 -0.157944 -0.248489     1.000000   \n",
      "weathersit_x -0.297391  0.019211 -0.120602  0.591045     0.039511   \n",
      "\n",
      "              weathersit_x  \n",
      "cnt_x            -0.297391  \n",
      "season_x          0.019211  \n",
      "temp_x           -0.120602  \n",
      "hum_x             0.591045  \n",
      "windspeed_x       0.039511  \n",
      "weathersit_x      1.000000  \n"
     ]
    }
   ],
   "source": [
    "correlation_all = all_df[['cnt_x', 'season_x', 'temp_x', 'hum_x', 'windspeed_x', 'weathersit_x']].corr()\n",
    "print(correlation_all)"
   ]
  },
  {
   "cell_type": "markdown",
   "id": "9dd7b652-59e3-4667-b286-4f869dc5ca1b",
   "metadata": {
    "id": "9dd7b652-59e3-4667-b286-4f869dc5ca1b"
   },
   "source": [
    "**Insight:**\n",
    "\n",
    "- Faktor terbesar yang meningkatkan penyewaan sepeda adalah suhu tinggi dan musim tertentu (kemungkinan musim panas).\n",
    "- Cuaca buruk, kelembaban tinggi, dan angin kencang cenderung mengurangi jumlah penyewaan sepeda."
   ]
  },
  {
   "cell_type": "code",
   "execution_count": 21,
   "id": "410d1a6b-3f56-44b3-9af9-f3a7d38a5641",
   "metadata": {
    "id": "410d1a6b-3f56-44b3-9af9-f3a7d38a5641"
   },
   "outputs": [
    {
     "name": "stdout",
     "output_type": "stream",
     "text": [
      "season_x\n",
      "3    188\n",
      "2    184\n",
      "1    181\n",
      "4    178\n",
      "Name: instant, dtype: int64\n"
     ]
    }
   ],
   "source": [
    "#Mengelompokkan data berdasarkan musim\n",
    "season_rentals_all = all_df.groupby(by=\"season_x\").instant.nunique().sort_values(ascending=False)\n",
    "print(season_rentals_all)"
   ]
  },
  {
   "cell_type": "markdown",
   "id": "0c8c78ed-eadc-4572-8b35-b5fbc9deb253",
   "metadata": {
    "id": "0c8c78ed-eadc-4572-8b35-b5fbc9deb253"
   },
   "source": [
    "- Ini menunjukkan bahwa musim panas adalah periode dengan lebih banyak data pencatatan penyewaan sepeda."
   ]
  },
  {
   "cell_type": "code",
   "execution_count": 22,
   "id": "Smohh5XOTtXH",
   "metadata": {
    "id": "Smohh5XOTtXH"
   },
   "outputs": [
    {
     "name": "stdout",
     "output_type": "stream",
     "text": [
      "mnth_x\n",
      "1     134933\n",
      "2     151352\n",
      "3     228920\n",
      "4     269094\n",
      "5     331686\n",
      "6     346342\n",
      "7     344948\n",
      "8     351194\n",
      "9     345991\n",
      "10    322352\n",
      "11    254831\n",
      "12    211036\n",
      "Name: cnt_x, dtype: int64\n"
     ]
    }
   ],
   "source": [
    "monthly_rentals_all = all_df.groupby(by=\"mnth_x\")['cnt_x'].sum()\n",
    "print(monthly_rentals_all)"
   ]
  },
  {
   "cell_type": "markdown",
   "id": "f0f2e404-41ab-409a-9f03-f1079dd4ca96",
   "metadata": {
    "id": "f0f2e404-41ab-409a-9f03-f1079dd4ca96"
   },
   "source": [
    "- Penyewaan tertinggi terjadi pada bulan 6, 7, 8, dan 9 (musim panas).\n",
    "- Penyewaan terendah terjadi pada bulan 1 dan 2 (musim dingin), kemungkinan karena cuaca yang kurang mendukung.\n",
    "- Membuktikan bahwa musim memiliki dampak besar terhadap jumlah penyewaan sepeda."
   ]
  },
  {
   "cell_type": "code",
   "execution_count": 31,
   "id": "2a6e987f-c0bd-4a4f-b226-a8cfbd2ba392",
   "metadata": {
    "id": "2a6e987f-c0bd-4a4f-b226-a8cfbd2ba392",
    "scrolled": true
   },
   "outputs": [
    {
     "name": "stdout",
     "output_type": "stream",
     "text": [
      "weathersit_x\n",
      "1    463\n",
      "2    247\n",
      "3     21\n",
      "Name: instant, dtype: int64\n"
     ]
    }
   ],
   "source": [
    "#Mengelompokkan data berdasarkan kondisi cuaca\n",
    "weather_rentals_all = all_df.groupby(by=\"weathersit_x\").instant.nunique().sort_values(ascending=False)\n",
    "print(weather_rentals_all)"
   ]
  },
  {
   "cell_type": "markdown",
   "id": "b6294bb6-90c1-45c9-aded-6c32fc23902b",
   "metadata": {
    "id": "b6294bb6-90c1-45c9-aded-6c32fc23902b"
   },
   "source": [
    "- Menunjukkan bahwa mayoritas penyewaan terjadi saat cuaca cerah, sementara saat hujan lebih sedikit data yang tercatat."
   ]
  },
  {
   "cell_type": "markdown",
   "id": "be4b079a-61f6-4e64-a27e-e54fac0b9f22",
   "metadata": {
    "id": "be4b079a-61f6-4e64-a27e-e54fac0b9f22"
   },
   "source": [
    "## Visualization & Explanatory Analysis"
   ]
  },
  {
   "cell_type": "markdown",
   "id": "1ed60585-fc13-4e28-85f7-460290f74d65",
   "metadata": {
    "id": "1ed60585-fc13-4e28-85f7-460290f74d65"
   },
   "source": [
    "### Pertanyaan 1. Bagaimana pola penggunaan sepeda berdasarkan waktu (Weakday dan hour)?"
   ]
  },
  {
   "cell_type": "code",
   "execution_count": 24,
   "id": "02f63c87-2486-4498-adb3-68acc3e91475",
   "metadata": {
    "id": "02f63c87-2486-4498-adb3-68acc3e91475"
   },
   "outputs": [
    {
     "data": {
      "image/png": "[encoded data removed]",
      "text/plain": [
       "<Figure size 1400x500 with 2 Axes>"
      ]
     },
     "metadata": {},
     "output_type": "display_data"
    }
   ],
   "source": [
    "import matplotlib.pyplot as plt\n",
    "\n",
    "\n",
    "rentals_per_day = day_df.groupby('weekday')['cnt'].sum()\n",
    "rentals_per_hour = hour_df.groupby('hr')['cnt'].sum()\n",
    "\n",
    "fig, axes = plt.subplots(1, 2, figsize=(14, 5))\n",
    "\n",
    "axes[0].bar(rentals_per_day.index, rentals_per_day.values, color='b')\n",
    "axes[0].set_title(\"Total Rentals per Weekday\")\n",
    "axes[0].set_xlabel(\"Weekday\")\n",
    "axes[0].set_ylabel(\"Total Rentals\")\n",
    "axes[0].set_xticks(range(7))\n",
    "\n",
    "\n",
    "axes[1].bar(rentals_per_hour.index, rentals_per_hour.values, color='g')\n",
    "axes[1].set_title(\"Total Rentals per Hour\")\n",
    "axes[1].set_xlabel(\"Hour\")\n",
    "axes[1].set_ylabel(\"Total Rentals\")\n",
    "axes[1].set_xticks(range(0, 24, 2))\n",
    "\n",
    "# Menampilkan grafik\n",
    "plt.tight_layout()\n",
    "plt.show()\n"
   ]
  },
  {
   "cell_type": "markdown",
   "id": "11ef4c0b-02cc-4fe6-b603-c75fe39e2805",
   "metadata": {
    "id": "11ef4c0b-02cc-4fe6-b603-c75fe39e2805"
   },
   "source": [
    "Ket\n",
    "- Grafik pertama (kiri): Menampilkan jumlah penyewaan sepeda berdasarkan hari dalam seminggu.\n",
    "- Grafik kedua (kanan): Menampilkan jumlah penyewaan sepeda berdasarkan jam dalam sehari.\n",
    "\n",
    "**insight**\n",
    "\n",
    "- Pola Harian: Penyewaan sepeda lebih tinggi pada hari kerja dibandingkan akhir pekan, kemungkinan karena banyak digunakan untuk keperluan komuter.\n",
    "- Pola Per Jam: Puncak penyewaan terjadi pada jam sibuk (sekitar pagi dan sore hari), menunjukkan bahwa sepeda banyak digunakan untuk perjalanan kerja/sekolah.\n",
    "- Pola Waktu: Penyewaan menurun di malam hari dan dini hari, menandakan penggunaan sepeda lebih sedikit di luar jam aktivitas utama."
   ]
  },
  {
   "cell_type": "markdown",
   "id": "b7ca23a1-e71a-417e-9e33-b9e46c11d7d0",
   "metadata": {
    "id": "b7ca23a1-e71a-417e-9e33-b9e46c11d7d0"
   },
   "source": [
    "### Pertanyaan 2. Apa Hubungan antara Jumlah Penyewaan Sepeda dan Faktor Demografis Pengguna setiap hari dalam seminggu?"
   ]
  },
  {
   "cell_type": "code",
   "execution_count": 25,
   "id": "83c733cf-0e96-47c0-9023-2d9f536111b4",
   "metadata": {
    "id": "83c733cf-0e96-47c0-9023-2d9f536111b4"
   },
   "outputs": [
    {
     "data": {
      "image/png": "[encoded data removed]",
      "text/plain": [
       "<Figure size 1000x500 with 1 Axes>"
      ]
     },
     "metadata": {},
     "output_type": "display_data"
    }
   ],
   "source": [
    "daily_rent_df = all_df.groupby(['weekday_x']).agg({\n",
    "    'casual_x': 'sum',\n",
    "    'registered_x': 'sum',\n",
    "    'cnt_x': 'sum'\n",
    "})\n",
    "\n",
    "day_names = {0: 'Sunday', 1: 'Monday', 2: 'Tuesday', 3: 'Wednesday',\n",
    "             4: 'Thursday', 5: 'Friday', 6: 'Saturday'}\n",
    "daily_rent_df.index = daily_rent_df.index.map(day_names)\n",
    "\n",
    "daily_rent_df = daily_rent_df.reset_index()\n",
    "\n",
    "x = np.arange(len(daily_rent_df))\n",
    "days = daily_rent_df['weekday_x']\n",
    "\n",
    "plt.figure(figsize=(10, 5))\n",
    "plt.bar(x + 0.2, daily_rent_df['registered_x'], width=0.4, label='Registered', color='green')\n",
    "plt.bar(x - 0.2, daily_rent_df['casual_x'], width=0.4, label='Casual', color='blue')\n",
    "plt.xlabel('Days')\n",
    "plt.ylabel('Total Rent')\n",
    "plt.title('Bike Rentals by Casual and Registered Users for Each Day of the Week')\n",
    "plt.xticks(ticks=x, labels=days)\n",
    "plt.legend()\n",
    "plt.grid(True)\n",
    "plt.show()"
   ]
  },
  {
   "cell_type": "markdown",
   "id": "8704a012-39db-4ee2-b28b-c1e5f93c3302",
   "metadata": {
    "id": "8704a012-39db-4ee2-b28b-c1e5f93c3302"
   },
   "source": [
    "**insight:**\n",
    "\n",
    "- Pengguna Terdaftar vs Kasual: Penyewa terdaftar (registered) secara konsisten lebih banyak dibandingkan penyewa kasual, menunjukkan bahwa layanan sepeda lebih banyak digunakan oleh pelanggan tetap.\n",
    "- Pola Harian: Penyewaan tertinggi terjadi pada hari kerja, terutama oleh pengguna terdaftar, yang kemungkinan besar menggunakan sepeda untuk keperluan komuter.\n",
    "- Akhir Pekan: Pengguna kasual meningkat pada akhir pekan, menunjukkan bahwa mereka lebih banyak menggunakan sepeda untuk rekreasi dibandingkan keperluan sehari-hari.\n",
    "- Hari dengan Penyewaan Terbanyak: Biasanya terjadi pada pertengahan minggu (Selasa-Kamis) untuk pengguna terdaftar, sedangkan pengguna kasual lebih banyak di Sabtu/Minggu."
   ]
  },
  {
   "cell_type": "markdown",
   "id": "5c911c8a-d7dc-4c8a-94ac-b33be62dd58a",
   "metadata": {
    "id": "5c911c8a-d7dc-4c8a-94ac-b33be62dd58a"
   },
   "source": [
    "### Pertanyaan 3. Pada Bulan Apa terjadinya peningkatan penyewaan sepeda dan apakah cuaca cukup berperan?"
   ]
  },
  {
   "cell_type": "code",
   "execution_count": 26,
   "id": "d03e48ee-0b73-450e-b886-b64c7e422ab3",
   "metadata": {
    "id": "d03e48ee-0b73-450e-b886-b64c7e422ab3"
   },
   "outputs": [
    {
     "data": {
      "image/png": "[encoded data removed]",
      "text/plain": [
       "<Figure size 2400x600 with 1 Axes>"
      ]
     },
     "metadata": {},
     "output_type": "display_data"
    }
   ],
   "source": [
    "monthly_rent_df = all_df.groupby('mnth_x')['cnt_x'].sum().reset_index()\n",
    "monthly_weather_df = all_df.groupby('mnth_x').agg({\n",
    "    'atemp_x': 'mean',\n",
    "    'hum_x': 'mean'\n",
    "}).reset_index()\n",
    "\n",
    "monthly_summary_df = pd.merge(monthly_rent_df, monthly_weather_df, on='mnth_x')\n",
    "\n",
    "month_names = {\n",
    "    1: 'January', 2: 'February', 3: 'March',\n",
    "    4: 'April', 5: 'May', 6: 'June',\n",
    "    7: 'July', 8: 'August', 9: 'September',\n",
    "    10: 'October', 11: 'November', 12: 'December'\n",
    "}\n",
    "\n",
    "monthly_summary_df['month_name'] = monthly_summary_df['mnth_x'].map(month_names)\n",
    "\n",
    "plt.figure(figsize=(24, 6))\n",
    "plt.scatter(monthly_summary_df['month_name'], monthly_summary_df['atemp_x'], color='blue')\n",
    "plt.title(\"Bike Rentals vs Average Temperature per Month\", fontsize=30)\n",
    "plt.xlabel(\"Month\", fontsize=14)\n",
    "plt.ylabel(\"Average Temperature (°C)\", fontsize=15)\n",
    "plt.xticks(fontsize=10)\n",
    "plt.yticks(fontsize=10)\n",
    "plt.grid(True)\n",
    "\n",
    "for i, row in monthly_summary_df.iterrows():\n",
    "    plt.annotate(row['cnt_x'], (row['month_name'], row['atemp_x']), textcoords=\"offset points\", xytext=(0,10), ha='center')\n",
    "\n",
    "plt.show()"
   ]
  },
  {
   "cell_type": "markdown",
   "id": "73c37738-066c-4dfa-9095-6d671668f90c",
   "metadata": {
    "id": "73c37738-066c-4dfa-9095-6d671668f90c"
   },
   "source": [
    "**insight**\n",
    "- Peningkatan Penyewaan terjadi pada bulan Mei hingga September, menunjukkan musim panas sebagai periode dengan penggunaan sepeda tertinggi.\n",
    "  dan pada bulan juli merupakan paling banyak untuk orang melakukan penyewaan sepeda\n",
    "- Cuaca Berpengaruh: Semakin tinggi suhu rata-rata, semakin banyak sepeda yang disewa.\n",
    "- Penurunan di Musim Dingin: Penyewaan menurun pada bulan November - Februari, kemungkinan karena suhu lebih dingin dan kondisi cuaca kurang mendukung."
   ]
  },
  {
   "cell_type": "markdown",
   "id": "4f5fbfa1-c31a-4887-b33e-ed78cc5660ba",
   "metadata": {
    "id": "4f5fbfa1-c31a-4887-b33e-ed78cc5660ba"
   },
   "source": [
    "### Pertanyaan 4. Bagaimana distribusi penyewaan sepeda berdasarkan rentang suhu?"
   ]
  },
  {
   "cell_type": "code",
   "execution_count": 27,
   "id": "30ff45c9-c985-4001-b411-cee73cfda0a0",
   "metadata": {
    "id": "30ff45c9-c985-4001-b411-cee73cfda0a0"
   },
   "outputs": [
    {
     "data": {
      "image/png": "[encoded data removed]",
      "text/plain": [
       "<Figure size 640x480 with 1 Axes>"
      ]
     },
     "metadata": {},
     "output_type": "display_data"
    }
   ],
   "source": [
    "bins = [0, 10, 20, 30, 40]\n",
    "labels = ['0-10°C', '11-20°C', '21-30°C', '31-40°C']\n",
    "\n",
    "monthly_summary_df['temp_bin'] = pd.cut(monthly_summary_df['atemp_x'] * 50, bins=bins, labels=labels)\n",
    "binned_rentals = monthly_summary_df.groupby('temp_bin', observed=False)['cnt_x'].sum().reset_index()\n",
    "\n",
    "plt.bar(binned_rentals['temp_bin'], binned_rentals['cnt_x'], color='skyblue')\n",
    "plt.title('Bike Rentals by Temperature', fontsize=20)\n",
    "plt.xlabel('Temperature Range', fontsize=14)\n",
    "plt.ylabel('Total Rentals', fontsize=14)\n",
    "plt.xticks(fontsize=10)\n",
    "plt.yticks(fontsize=10)\n",
    "plt.grid(axis='y')\n",
    "\n",
    "plt.show()"
   ]
  },
  {
   "cell_type": "markdown",
   "id": "8ab72d2c-733d-489e-8003-ad0a5f6630fd",
   "metadata": {
    "id": "8ab72d2c-733d-489e-8003-ad0a5f6630fd"
   },
   "source": [
    "**insight**\n",
    "\n",
    "- Suhu Lebih Tinggi = Lebih Banyak Penyewaan: Penyewaan sepeda meningkat pada rentang suhu 11-30°C, menunjukkan bahwa cuaca hangat lebih mendukung aktivitas bersepeda.\n",
    "- Penyewaan Rendah pada Suhu Ekstrem: Pada suhu 0-10°C dan di atas 30°C, jumlah penyewaan menurun, kemungkinan karena kondisi terlalu dingin atau terlalu panas tidak nyaman untuk bersepeda."
   ]
  },
  {
   "cell_type": "markdown",
   "id": "gMN42s1N-K3b",
   "metadata": {
    "id": "gMN42s1N-K3b"
   },
   "source": [
    "## Conclusion"
   ]
  },
  {
   "cell_type": "markdown",
   "id": "GYyUYHb0-OLx",
   "metadata": {
    "id": "GYyUYHb0-OLx"
   },
   "source": [
    "- 1.Bagaimana pola penggunaan sepeda berdasarkan waktu (harian dan jam)?\n",
    "\n",
    "  Pola penggunaan sepeda menunjukkan bahwa jumlah penyewaan meningkat pada hari kerja, terutama oleh pengguna terdaftar. Lonjakan signifikan terjadi pada jam-jam sibuk, yaitu pagi hari antara pukul 07:00-09:00 dan sore hari antara pukul 17:00-19:00. Hal ini mengindikasikan bahwa sepeda digunakan sebagai moda transportasi utama untuk berangkat dan pulang kerja. Sebaliknya, pada akhir pekan, penggunaan sepeda lebih banyak berasal dari pengguna kasual, yang kemungkinan besar menggunakan sepeda untuk aktivitas rekreasi.\n",
    "\n",
    "- 2.Apa hubungan antara jumlah penyewaan sepeda dan faktor demografis pengguna setiap hari dalam seminggu?\n",
    "\n",
    "  Data menunjukkan bahwa pengguna terdaftar lebih dominan dalam penyewaan sepeda dibandingkan pengguna kasual, terutama pada hari kerja. Sementara itu, jumlah penyewaan oleh pengguna kasual mengalami peningkatan pada akhir pekan. Puncak penyewaan terjadi pada hari Kamis dan Jumat, baik untuk pengguna terdaftar maupun kasual. Hal ini dapat mengindikasikan bahwa pengguna kasual lebih aktif dalam menggunakan sepeda menjelang akhir pekan, sementara pengguna terdaftar tetap memiliki pola penggunaan yang stabil selama hari kerja.\n",
    "\n",
    "- 3.Pada bulan apa terjadinya peningkatan penyewaan sepeda dan apakah cuaca cukup berperan?\n",
    "\n",
    "  Penyewaan sepeda mengalami peningkatan mulai bulan Maret hingga September, dengan puncaknya terjadi pada bulan Juni hingga Agustus. Faktor cuaca memainkan peran penting dalam tren ini, di mana jumlah penyewaan cenderung lebih tinggi pada bulan dengan suhu yang nyaman, tidak terlalu panas maupun dingin. Sebaliknya, pada bulan-bulan dengan suhu ekstrem seperti musim dingin, penyewaan sepeda mengalami penurunan yang cukup signifikan.\n",
    "\n",
    "- 4.Bagaimana distribusi penyewaan sepeda berdasarkan rentang suhu?\n",
    "\n",
    "  Penyewaan sepeda tertinggi terjadi pada rentang suhu 11-30°C, yang dianggap sebagai kondisi optimal untuk bersepeda. Saat suhu berada di bawah 10°C atau di atas 30°C, jumlah penyewaan menurun drastis, menunjukkan bahwa kondisi ekstrem kurang mendukung aktivitas bersepeda. Hal ini mengonfirmasi bahwa suhu yang nyaman memiliki korelasi positif terhadap peningkatan jumlah penyewaan sepeda."
   ]
  },
  {
   "cell_type": "code",
   "execution_count": 28,
   "id": "4c9b9f30-ce00-49f6-8d21-ec15b7fa64ee",
   "metadata": {
    "id": "4c9b9f30-ce00-49f6-8d21-ec15b7fa64ee"
   },
   "outputs": [],
   "source": [
    "all_df.to_csv(\"all_data.csv\", index=False)"
   ]
  },
  {
   "cell_type": "markdown",
   "id": "wVKugz9n-Gjb",
   "metadata": {
    "id": "wVKugz9n-Gjb"
   },
   "source": []
  },
  {
   "cell_type": "code",
   "execution_count": 29,
   "id": "aae09b2e-9922-4e20-9b17-5487a2c29762",
   "metadata": {
    "id": "aae09b2e-9922-4e20-9b17-5487a2c29762"
   },
   "outputs": [
    {
     "data": {
      "text/plain": [
       "'D:\\\\submission'"
      ]
     },
     "execution_count": 29,
     "metadata": {},
     "output_type": "execute_result"
    }
   ],
   "source": [
    "import os\n",
    "os.getcwd()"
   ]
  },
  {
   "cell_type": "code",
   "execution_count": null,
   "id": "a9535028-cfd7-4230-a3e5-03088e751828",
   "metadata": {
    "id": "a9535028-cfd7-4230-a3e5-03088e751828"
   },
   "outputs": [],
   "source": []
  }
 ],
 "metadata": {
  "colab": {
   "provenance": []
  },
  "kernelspec": {
   "display_name": "Python 3 (ipykernel)",
   "language": "python",
   "name": "python3"
  },
  "language_info": {
   "codemirror_mode": {
    "name": "ipython",
    "version": 3
   },
   "file_extension": ".py",
   "mimetype": "text/x-python",
   "name": "python",
   "nbconvert_exporter": "python",
   "pygments_lexer": "ipython3",
   "version": "3.9.21"
  }
 },
 "nbformat": 4,
 "nbformat_minor": 5
}
